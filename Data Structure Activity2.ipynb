{
 "cells": [
  {
   "cell_type": "code",
   "execution_count": 9,
   "id": "16e78445-9b8a-4448-8d9d-54f630a9aca3",
   "metadata": {},
   "outputs": [
    {
     "name": "stdout",
     "output_type": "stream",
     "text": [
      "First Matrix:\n",
      " [[10 14 12]\n",
      " [15  5 12]]\n",
      "\n",
      "Second Matrix:\n",
      " [[2 0 2]\n",
      " [4 5 8]]\n",
      "\n",
      "Third Matrix (Addition):\n",
      " [[12 14 14]\n",
      " [19 10 20]]\n",
      "\n",
      "Fourth Matrix (Scalar Multiplication):\n",
      " [[20 28 24]\n",
      " [30 10 24]]\n",
      "\n",
      "Fifth Matrix (Transpose of Matrix 2):\n",
      " [[2 4]\n",
      " [0 5]\n",
      " [2 8]]\n",
      "\n",
      "Sixth Matrix (Matrix Multiplication):\n",
      " [[ 52 230]\n",
      " [ 78 286]]\n",
      "\n",
      "Sum of all elements in Third Matrix: 89\n",
      "\n",
      "Seventh Matrix (Zero Matrix):\n",
      " [[0. 0. 0.]\n",
      " [0. 0. 0.]]\n"
     ]
    }
   ],
   "source": [
    "import numpy as np\n",
    "\n",
    "# 1. Creating Matrices\n",
    "# Initials: JNL => [10, 14, 12]\n",
    "# Second letters: OEL => [15, 5, 12]\n",
    "first_matrix = np.array([[10, 14, 12], [15, 5, 12]])\n",
    "print(\"First Matrix:\\n\", first_matrix)\n",
    "\n",
    "# Student number: 202458 => [2, 0, 2], [4, 5, 8]\n",
    "second_matrix = np.array([[2, 0, 2], [4, 5, 8]])\n",
    "print(\"\\nSecond Matrix:\\n\", second_matrix)\n",
    "\n",
    "# 2. Matrix Addition\n",
    "third_matrix = first_matrix + second_matrix\n",
    "print(\"\\nThird Matrix (Addition):\\n\", third_matrix)\n",
    "\n",
    "# 3. Scalar Multiplication\n",
    "fourth_matrix = first_matrix * 2\n",
    "print(\"\\nFourth Matrix (Scalar Multiplication):\\n\", fourth_matrix)\n",
    "\n",
    "# 4. Matrix Transpose\n",
    "fifth_matrix = second_matrix.T\n",
    "print(\"\\nFifth Matrix (Transpose of Matrix 2):\\n\", fifth_matrix)\n",
    "\n",
    "# 5. Matrix Multiplication\n",
    "for i in range(2):\n",
    "    for j in range(2):\n",
    "sixth_matrix[i][j]\n",
    "print(\"\\nSixth Matrix (Matrix Multiplication):\\n\", sixth_matrix)\n",
    "\n",
    "# 6. Sum of all elements in Matrix 3\n",
    "sum_third_matrix = np.sum(third_matrix)\n",
    "print(\"\\nSum of all elements in Third Matrix:\", sum_third_matrix)\n",
    "\n",
    "# 7. Zero Matrix\n",
    "seventh_matrix = np.zeros((2, 3))\n",
    "print(\"\\nSeventh Matrix (Zero Matrix):\\n\", seventh_matrix)"
   ]
  },
  {
   "cell_type": "code",
   "execution_count": null,
   "id": "bbdfee64-c07c-404c-b48d-952b152491f9",
   "metadata": {},
   "outputs": [],
   "source": []
  }
 ],
 "metadata": {
  "kernelspec": {
   "display_name": "Python [conda env:base] *",
   "language": "python",
   "name": "conda-base-py"
  },
  "language_info": {
   "codemirror_mode": {
    "name": "ipython",
    "version": 3
   },
   "file_extension": ".py",
   "mimetype": "text/x-python",
   "name": "python",
   "nbconvert_exporter": "python",
   "pygments_lexer": "ipython3",
   "version": "3.12.7"
  }
 },
 "nbformat": 4,
 "nbformat_minor": 5
}
